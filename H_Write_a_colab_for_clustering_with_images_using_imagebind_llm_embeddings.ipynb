{
  "nbformat": 4,
  "nbformat_minor": 0,
  "metadata": {
    "colab": {
      "provenance": []
    },
    "kernelspec": {
      "name": "python3",
      "display_name": "Python 3"
    },
    "language_info": {
      "name": "python"
    }
  },
  "cells": [
    {
      "cell_type": "code",
      "execution_count": null,
      "metadata": {
        "id": "IseQ7tEUMrWE"
      },
      "outputs": [],
      "source": [
        "import numpy\n",
        "import math\n",
        "\n",
        "book_A = numpy.array([2, 3])\n",
        "book_B = numpy.array([4, 1])\n",
        "\n",
        "book_A_B = book_A - book_B\n",
        "\n",
        "# ---- Easy Solution ----\n",
        "euclidean_dist_easy = numpy.linalg.norm(book_A_B)\n",
        "\n",
        "# ---- Manuel Solution ----\n",
        "# Sum together all distances squared (pythagoras)\n",
        "sum_of_squared_distances = numpy.dot(book_A_B, book_A_B)\n",
        "# Find distance\n",
        "euclidean_dist_manuel = math.sqrt(sum_of_squared_distances)"
      ]
    },
    {
      "cell_type": "code",
      "source": [
        "from scipy import spatial\n",
        "import math\n",
        "\n",
        "# ---- Easy Solution ----\n",
        "cosine_dist_easy = spatial.distance.cosine(book_A, book_B)\n",
        "\n",
        "# ---- Manuel Solution ----\n",
        "# Dot product between vectors\n",
        "product_AB = numpy.dot(book_A, book_B)\n",
        "# Length of vectors\n",
        "book_A_length = numpy.linalg.norm(book_A,2)\n",
        "book_B_length = numpy.linalg.norm(book_B,2)\n",
        "# Similarity measures by cosine distance\n",
        "cosine_dist_manuel = 1 - (product_AB / (book_A_length * book_B_length))"
      ],
      "metadata": {
        "id": "-OTUdgYTNGHN"
      },
      "execution_count": null,
      "outputs": []
    },
    {
      "cell_type": "code",
      "source": [
        "# -------------- Define Measurements --------------\n",
        "# Vector = [Life-Jouney, Fiction]\n",
        "vec_a = [2, 3]\n",
        "vec_b = [3, 1]\n",
        "vec_c = [7, 5]\n",
        "vec_d = [8, 7]\n",
        "vec_e = [3, 8]\n",
        "vec_f = [4, 9]\n",
        "vec_g = [9, 2]\n",
        "vec_h = [10, 1.8]\n",
        "data_points = [vec_a, vec_b, vec_c, vec_d, vec_e, vec_f, vec_g, vec_h]"
      ],
      "metadata": {
        "id": "94K2DspkNIkD"
      },
      "execution_count": null,
      "outputs": []
    },
    {
      "cell_type": "code",
      "source": [
        "import numpy as np\n",
        "\n",
        "# Example range for random clusters\n",
        "n_clusters = 3\n",
        "n_points = 100\n",
        "ranges = [(0, 10), (20, 30), (40, 50)]\n",
        "\n",
        "# Initialize clusters\n",
        "clusters = []\n",
        "random_cluster_points = np.random.rand(n_clusters, n_points)\n",
        "\n",
        "for index, cluster_point in enumerate(random_cluster_points):\n",
        "    range_diff = ranges[index][1] - ranges[index][0]\n",
        "    random_cluster_points[index] = cluster_point * range_diff + ranges[index][0]\n",
        "    clusters.append(random_cluster_points[index])\n",
        "\n",
        "print(f\"Clusters: {clusters}\")"
      ],
      "metadata": {
        "colab": {
          "base_uri": "https://localhost:8080/"
        },
        "id": "qpK3rNkzNMeD",
        "outputId": "88e6c100-aa26-4037-cec5-ceaccb1ca037"
      },
      "execution_count": null,
      "outputs": [
        {
          "output_type": "stream",
          "name": "stdout",
          "text": [
            "Clusters: [array([1.04282653, 8.26571777, 4.9230114 , 1.69955872, 7.53659333,\n",
            "       3.2631538 , 3.12606761, 4.38328873, 3.24000313, 2.9294109 ,\n",
            "       0.59869352, 7.49843092, 7.65758308, 0.51466881, 7.44692616,\n",
            "       7.39802   , 7.47055884, 6.02849534, 9.05604081, 2.47251763,\n",
            "       4.31371497, 5.69261342, 2.60521869, 9.34889858, 1.63165046,\n",
            "       5.01640281, 3.76604741, 9.98101053, 5.94424778, 7.52474624,\n",
            "       7.36438884, 7.91113849, 8.74465857, 5.14977695, 2.50718902,\n",
            "       7.96955216, 6.62347009, 0.06065021, 1.7879997 , 7.00947433,\n",
            "       2.19108074, 2.42056404, 4.2062538 , 5.53715987, 2.41115577,\n",
            "       9.64336804, 0.30250854, 5.83938802, 5.66365173, 0.01319438,\n",
            "       2.07211978, 8.41110967, 0.45682187, 6.68785067, 0.6325885 ,\n",
            "       2.33517237, 2.25584305, 1.10231666, 2.7338787 , 6.02494238,\n",
            "       1.64343542, 6.4878588 , 8.91666058, 3.86800818, 7.0054358 ,\n",
            "       9.19403863, 5.34421757, 5.10360752, 5.82243552, 3.35362052,\n",
            "       5.62694532, 5.7739172 , 0.1318161 , 4.20322778, 4.06212724,\n",
            "       5.52402296, 6.43459777, 1.37855126, 0.6962571 , 1.65720782,\n",
            "       0.75055653, 0.61831531, 7.92663125, 8.36231019, 9.78184008,\n",
            "       3.34252476, 0.61084077, 0.5052926 , 5.83841464, 3.85871423,\n",
            "       0.97180838, 1.26806884, 1.26735648, 2.62175681, 3.69236924,\n",
            "       4.38624281, 4.84176615, 0.46374891, 9.39233173, 3.67128037]), array([23.98572675, 22.2614043 , 23.78299303, 20.21196631, 29.35507696,\n",
            "       20.20218069, 26.28947875, 29.81983671, 27.424822  , 27.19304479,\n",
            "       25.50950207, 22.11826804, 21.59763328, 22.96182052, 27.16905622,\n",
            "       29.4315159 , 21.2240076 , 22.06448528, 23.50077872, 29.8050988 ,\n",
            "       27.14163281, 29.72809168, 22.89692611, 29.89075369, 28.91657442,\n",
            "       28.40632656, 28.42473827, 26.56000974, 26.74070557, 26.90829316,\n",
            "       21.00297665, 27.94854373, 27.34338185, 21.27958796, 28.85960395,\n",
            "       20.26453554, 24.56860789, 25.7471041 , 20.24229249, 27.30394374,\n",
            "       29.27048179, 22.52311385, 26.89729423, 26.60442043, 25.63238366,\n",
            "       24.54328219, 25.8137693 , 24.54241014, 29.37210965, 26.35431778,\n",
            "       26.9142616 , 26.87469006, 25.43458181, 27.0828506 , 29.52662098,\n",
            "       26.98523705, 22.99297634, 28.70502624, 21.04781838, 23.25582684,\n",
            "       21.08723387, 23.76577463, 28.55948945, 24.22424892, 23.91051454,\n",
            "       23.23055357, 20.04745706, 28.33445783, 20.29631864, 21.44839413,\n",
            "       28.02320701, 28.88977332, 23.44928172, 25.0808209 , 27.66218736,\n",
            "       22.51112873, 23.20069796, 22.18871794, 24.92788684, 25.1570056 ,\n",
            "       29.59889555, 23.8327484 , 22.36794841, 24.40876527, 23.77126253,\n",
            "       23.42472657, 28.26154538, 27.71810689, 21.71730946, 23.0225012 ,\n",
            "       21.69159865, 20.86154767, 28.46656502, 29.15098851, 20.51808309,\n",
            "       27.33164594, 24.99367743, 28.59332838, 20.48479596, 29.62350098]), array([41.15786378, 49.79357392, 42.29602604, 47.50122544, 44.75048602,\n",
            "       48.74482472, 41.28662397, 43.31793788, 48.69291181, 44.05101081,\n",
            "       49.05973265, 49.42058599, 47.57737605, 46.70793775, 47.92897793,\n",
            "       47.60854653, 40.48691144, 42.65356189, 47.7953208 , 43.73767425,\n",
            "       45.36176904, 49.18973331, 43.81681619, 44.78678886, 45.13834232,\n",
            "       41.29428113, 45.43381781, 47.9602464 , 40.5566184 , 46.5420652 ,\n",
            "       47.93728842, 49.17034932, 40.6007738 , 44.37563857, 49.63767404,\n",
            "       49.86537971, 46.55502607, 45.48056718, 46.83660306, 48.65481879,\n",
            "       43.59059236, 43.13804979, 49.30272506, 47.06329875, 43.51569244,\n",
            "       42.20781242, 48.78647902, 44.62671481, 40.45349621, 49.10705054,\n",
            "       40.67443926, 45.6977207 , 48.66308387, 45.21477027, 43.75854975,\n",
            "       46.74419452, 42.51567283, 47.12908302, 46.71359752, 49.99827172,\n",
            "       43.07164482, 44.79187496, 43.38124741, 45.61665173, 42.66538082,\n",
            "       43.22302887, 46.99860483, 45.80652462, 43.60357941, 48.94283191,\n",
            "       44.88962856, 49.87385724, 45.65799542, 42.53812172, 41.4366732 ,\n",
            "       45.74895202, 41.95066533, 41.31434417, 47.61785446, 44.18325365,\n",
            "       48.37486728, 45.51071723, 49.66713224, 41.56842022, 49.01689724,\n",
            "       49.32697022, 42.25016623, 44.24572605, 44.09457454, 42.38878438,\n",
            "       48.78579573, 43.16772149, 47.10290778, 44.04805036, 49.22784516,\n",
            "       43.33249026, 48.47244324, 44.78822047, 42.73956066, 43.08429961])]\n"
          ]
        }
      ]
    },
    {
      "cell_type": "code",
      "source": [
        "import numpy as np\n",
        "\n",
        "# Define Euclidean distance function\n",
        "def euclidean_distance(point1, point2):\n",
        "    return np.linalg.norm(point1 - point2)\n",
        "\n",
        "# Assign to dist_func\n",
        "dist_func = euclidean_distance\n",
        "\n",
        "# Example clusters and data points\n",
        "clusters = [np.array([1, 2]), np.array([4, 5]), np.array([7, 8])]\n",
        "data_points = [np.array([2, 3]), np.array([5, 6]), np.array([8, 9])]\n",
        "\n",
        "for data_point in data_points:\n",
        "    # Calculate distance to each cluster\n",
        "    distance_to_clusters = [dist_func(cluster, data_point) for cluster in clusters]\n",
        "    # Get index of the closest cluster\n",
        "    closest_cluster_index = distance_to_clusters.index(min(distance_to_clusters))\n",
        "    print(f\"Data point {data_point} is closest to cluster {clusters[closest_cluster_index]}\")"
      ],
      "metadata": {
        "colab": {
          "base_uri": "https://localhost:8080/"
        },
        "id": "KjjN3OZSNPO7",
        "outputId": "8ef1b291-3f39-4912-b98f-12ccd8e13d29"
      },
      "execution_count": null,
      "outputs": [
        {
          "output_type": "stream",
          "name": "stdout",
          "text": [
            "Data point [2 3] is closest to cluster [1 2]\n",
            "Data point [5 6] is closest to cluster [4 5]\n",
            "Data point [8 9] is closest to cluster [7 8]\n"
          ]
        }
      ]
    },
    {
      "cell_type": "code",
      "source": [
        "import numpy as np\n",
        "\n",
        "# Example: Data points and cluster assignments\n",
        "data_points = [np.array([1, 2]), np.array([2, 3]), np.array([6, 7])]\n",
        "cluster_assignments = [0, 0, 1]  # Example cluster assignments\n",
        "n_clusters = 2\n",
        "\n",
        "# Initialize clusters_data_points\n",
        "clusters_data_points = [[] for _ in range(n_clusters)]\n",
        "\n",
        "# Assign data points to clusters\n",
        "for i, point in enumerate(data_points):\n",
        "    clusters_data_points[cluster_assignments[i]].append(point)\n",
        "\n",
        "# Calculate means for each cluster\n",
        "cluster_means = [np.mean(cluster, axis=0) if cluster else None for cluster in clusters_data_points]\n",
        "\n",
        "print(f\"Clusters Data Points: {clusters_data_points}\")\n",
        "print(f\"Cluster Means: {cluster_means}\")"
      ],
      "metadata": {
        "colab": {
          "base_uri": "https://localhost:8080/"
        },
        "id": "4yMFW546NTXn",
        "outputId": "b8c07e5f-802b-494d-c25f-2b2359e41625"
      },
      "execution_count": null,
      "outputs": [
        {
          "output_type": "stream",
          "name": "stdout",
          "text": [
            "Clusters Data Points: [[array([1, 2]), array([2, 3])], [array([6, 7])]]\n",
            "Cluster Means: [array([1.5, 2.5]), array([6., 7.])]\n"
          ]
        }
      ]
    },
    {
      "cell_type": "code",
      "source": [
        "import numpy as np\n",
        "\n",
        "# Define the similarity function\n",
        "def euclidean_distance(point1, point2):\n",
        "    return np.linalg.norm(np.array(point1) - np.array(point2))\n",
        "\n",
        "# Define the function to split data points\n",
        "def split_data_points_between_clusters(clusters, data_points, similarity_func):\n",
        "    n_clusters = len(clusters)\n",
        "    clusters_data_points = [[] for _ in range(n_clusters)]\n",
        "\n",
        "    for point in data_points:\n",
        "        distances = [similarity_func(cluster, point) for cluster in clusters]\n",
        "        closest_cluster = np.argmin(distances)\n",
        "        clusters_data_points[closest_cluster].append(point)\n",
        "\n",
        "    return clusters_data_points\n",
        "\n",
        "# Define the function to calculate cluster means\n",
        "def calc_mean_clusters(clusters_data_points):\n",
        "    return [np.mean(cluster, axis=0) if cluster else None for cluster in clusters_data_points]\n",
        "\n",
        "# Example workflow\n",
        "clusters = [np.array([1, 1]), np.array([5, 5])]  # Initial clusters\n",
        "data_points = [np.array([1, 2]), np.array([3, 4]), np.array([6, 7])]  # Data points\n",
        "\n",
        "while True:\n",
        "    # Split data points between clusters\n",
        "    clusters_data_points = split_data_points_between_clusters(clusters, data_points, euclidean_distance)\n",
        "    # Calculate mean of each vector set as the cluster positions\n",
        "    new_clusters = calc_mean_clusters(clusters_data_points)\n",
        "    print(f\"Updated Clusters: {new_clusters}\")\n",
        "    break"
      ],
      "metadata": {
        "colab": {
          "base_uri": "https://localhost:8080/"
        },
        "id": "2ciNxBDONXWt",
        "outputId": "0394c955-7533-4e54-97d0-c66fac3c38f0"
      },
      "execution_count": null,
      "outputs": [
        {
          "output_type": "stream",
          "name": "stdout",
          "text": [
            "Updated Clusters: [array([1., 2.]), array([4.5, 5.5])]\n"
          ]
        }
      ]
    },
    {
      "cell_type": "code",
      "source": [
        "from sklearn import cluster\n",
        "\n",
        "# ---------- K-Mean clustering simplified ----------\n",
        "clusters = cluster.KMeans(n_clusters=n_clusters).fit(data_points).cluster_centers_\n",
        "print(clusters)"
      ],
      "metadata": {
        "id": "dvEWW7aMNaz1",
        "outputId": "f5df5eea-51e5-48d1-da90-1d2c76ca93b0",
        "colab": {
          "base_uri": "https://localhost:8080/"
        }
      },
      "execution_count": null,
      "outputs": [
        {
          "output_type": "stream",
          "name": "stdout",
          "text": [
            "[[2. 3.]\n",
            " [6. 7.]]\n"
          ]
        }
      ]
    }
  ]
}