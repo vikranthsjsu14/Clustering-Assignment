{
  "nbformat": 4,
  "nbformat_minor": 0,
  "metadata": {
    "colab": {
      "provenance": []
    },
    "kernelspec": {
      "name": "python3",
      "display_name": "Python 3"
    },
    "language_info": {
      "name": "python"
    }
  },
  "cells": [
    {
      "cell_type": "code",
      "execution_count": null,
      "metadata": {
        "colab": {
          "base_uri": "https://localhost:8080/"
        },
        "id": "GjXj2heZ4wyC",
        "outputId": "ca646692-5023-4a83-a05c-259434b1c910"
      },
      "outputs": [
        {
          "output_type": "stream",
          "name": "stdout",
          "text": [
            "Reading package lists... Done\n",
            "Building dependency tree... Done\n",
            "Reading state information... Done\n",
            "ffmpeg is already the newest version (7:4.4.2-0ubuntu0.22.04.1).\n",
            "0 upgraded, 0 newly installed, 0 to remove and 49 not upgraded.\n",
            "Collecting eyed3\n",
            "  Downloading eyed3-0.9.7-py3-none-any.whl.metadata (6.0 kB)\n",
            "Collecting coverage<6.0.0,>=5.3.1 (from coverage[toml]<6.0.0,>=5.3.1->eyed3)\n",
            "  Downloading coverage-5.5-cp310-cp310-manylinux1_x86_64.whl.metadata (8.0 kB)\n",
            "Collecting deprecation<3.0.0,>=2.1.0 (from eyed3)\n",
            "  Downloading deprecation-2.1.0-py2.py3-none-any.whl.metadata (4.6 kB)\n",
            "Collecting filetype<2.0.0,>=1.0.7 (from eyed3)\n",
            "  Downloading filetype-1.2.0-py2.py3-none-any.whl.metadata (6.5 kB)\n",
            "Requirement already satisfied: toml in /usr/local/lib/python3.10/dist-packages (from coverage[toml]<6.0.0,>=5.3.1->eyed3) (0.10.2)\n",
            "Requirement already satisfied: packaging in /usr/local/lib/python3.10/dist-packages (from deprecation<3.0.0,>=2.1.0->eyed3) (24.2)\n",
            "Downloading eyed3-0.9.7-py3-none-any.whl (246 kB)\n",
            "\u001b[2K   \u001b[90m━━━━━━━━━━━━━━━━━━━━━━━━━━━━━━━━━━━━━━━━\u001b[0m \u001b[32m246.1/246.1 kB\u001b[0m \u001b[31m3.9 MB/s\u001b[0m eta \u001b[36m0:00:00\u001b[0m\n",
            "\u001b[?25hDownloading coverage-5.5-cp310-cp310-manylinux1_x86_64.whl (238 kB)\n",
            "\u001b[2K   \u001b[90m━━━━━━━━━━━━━━━━━━━━━━━━━━━━━━━━━━━━━━━━\u001b[0m \u001b[32m239.0/239.0 kB\u001b[0m \u001b[31m13.7 MB/s\u001b[0m eta \u001b[36m0:00:00\u001b[0m\n",
            "\u001b[?25hDownloading deprecation-2.1.0-py2.py3-none-any.whl (11 kB)\n",
            "Downloading filetype-1.2.0-py2.py3-none-any.whl (19 kB)\n",
            "Installing collected packages: filetype, deprecation, coverage, eyed3\n",
            "Successfully installed coverage-5.5 deprecation-2.1.0 eyed3-0.9.7 filetype-1.2.0\n",
            "Collecting pydub\n",
            "  Downloading pydub-0.25.1-py2.py3-none-any.whl.metadata (1.4 kB)\n",
            "Downloading pydub-0.25.1-py2.py3-none-any.whl (32 kB)\n",
            "Installing collected packages: pydub\n",
            "Successfully installed pydub-0.25.1\n",
            "Collecting pyAudioAnalysis\n",
            "  Downloading pyAudioAnalysis-0.3.14.tar.gz (41.3 MB)\n",
            "\u001b[2K     \u001b[90m━━━━━━━━━━━━━━━━━━━━━━━━━━━━━━━━━━━━━━━━\u001b[0m \u001b[32m41.3/41.3 MB\u001b[0m \u001b[31m18.5 MB/s\u001b[0m eta \u001b[36m0:00:00\u001b[0m\n",
            "\u001b[?25h  Preparing metadata (setup.py) ... \u001b[?25l\u001b[?25hdone\n",
            "Building wheels for collected packages: pyAudioAnalysis\n",
            "  Building wheel for pyAudioAnalysis (setup.py) ... \u001b[?25l\u001b[?25hdone\n",
            "  Created wheel for pyAudioAnalysis: filename=pyAudioAnalysis-0.3.14-py3-none-any.whl size=41264372 sha256=33f013b4dc8f2c016bcdf6e6f895f1504048e6841ce92cb0f9734729a970eb57\n",
            "  Stored in directory: /root/.cache/pip/wheels/a7/54/73/fa830689c2440d2c81ff175c60e374930ad1607a8881e0f43f\n",
            "Successfully built pyAudioAnalysis\n",
            "Installing collected packages: pyAudioAnalysis\n",
            "Successfully installed pyAudioAnalysis-0.3.14\n"
          ]
        }
      ],
      "source": [
        "!apt install -y ffmpeg\n",
        "!pip install eyed3\n",
        "!pip install pydub\n",
        "!pip install --upgrade pyAudioAnalysis\n",
        "\n",
        "import os\n",
        "import tensorflow as tf\n",
        "import numpy as np\n",
        "import pandas as pd\n",
        "from pyAudioAnalysis import audioBasicIO\n",
        "import matplotlib.pyplot as plt"
      ]
    },
    {
      "cell_type": "code",
      "source": [
        "def preProcess(fileName):\n",
        "    from pyAudioAnalysis.audioBasicIO import read_audio_file\n",
        "    # Extracting wav file data\n",
        "    [Fs, x] = read_audio_file(fileName)\n",
        "\n",
        "    # If double-channel data, take the mean\n",
        "    if x.ndim > 1:\n",
        "        x = x.mean(axis=1)\n",
        "\n",
        "    # Return sample rate and audio signal\n",
        "    return Fs, x"
      ],
      "metadata": {
        "id": "kBqY6xugLTXi"
      },
      "execution_count": null,
      "outputs": []
    },
    {
      "cell_type": "code",
      "source": [
        "def getChromagram(audioData):\n",
        "    # Inspect array dimensions\n",
        "    if audioData.ndim == 2 and audioData.shape[1] > 21:\n",
        "        temp_data = audioData[:, 21]  # Extract column 21 if it's a 2D array\n",
        "        temp_data = temp_data.reshape(1, temp_data.shape[0])  # Reshape for chromagram\n",
        "        chromagram = temp_data\n",
        "    else:\n",
        "        print(f\"audioData does not have sufficient columns. Shape: {audioData.shape}\")\n",
        "        # Return a default chromagram if index 21 is invalid\n",
        "        chromagram = np.zeros((12, 25))  # Adjust dimensions as needed\n",
        "    return chromagram"
      ],
      "metadata": {
        "id": "ZNHPzVHxLWpw"
      },
      "execution_count": null,
      "outputs": []
    },
    {
      "cell_type": "code",
      "source": [
        "def getNoteFrequency( chromagram ):\n",
        "\n",
        "    # Total number of time frames in the current sample\n",
        "    numberOfWindows = chromagram.shape[1]\n",
        "\n",
        "    # Taking the note with the highest amplitude\n",
        "    freqVal = chromagram.argmax( axis = 0 )\n",
        "\n",
        "    # Converting the freqVal vs time to freq count\n",
        "    histogram, bin = np.histogram( freqVal, bins = 12 )\n",
        "\n",
        "    # Normalizing the distribution by the number of time frames\n",
        "    normalized_hist = histogram.reshape( 1, 12 ).astype( float ) / numberOfWindows\n",
        "\n",
        "    return normalized_hist"
      ],
      "metadata": {
        "id": "nJPYMguyLg6n"
      },
      "execution_count": null,
      "outputs": []
    },
    {
      "cell_type": "code",
      "source": [
        "def plotHeatmap(chromagram, smallSample=True):\n",
        "    if chromagram is None or chromagram.size == 0:\n",
        "        print(\"Chromagram is invalid or empty. Cannot plot heatmap.\")\n",
        "        return\n",
        "\n",
        "    fig, axis = plt.subplots()\n",
        "    if smallSample:\n",
        "        im = axis.imshow(chromagram[:, :25], cmap=\"YlGn\")  # Safely slice the array\n",
        "    else:\n",
        "        im = axis.imshow(chromagram)\n",
        "    plt.colorbar(im)\n",
        "    plt.show()"
      ],
      "metadata": {
        "id": "0LVXWf3NLj33"
      },
      "execution_count": null,
      "outputs": []
    },
    {
      "cell_type": "code",
      "source": [
        "def noteFrequencyPlot( noteFrequency, smallSample = True ):\n",
        "\n",
        "    fig, axis = plt.subplots(1, 1, sharey=True )\n",
        "\n",
        "    axis.plot( np.arange( 1, 13 ), noteFrequency[0, :] )\n",
        "\n",
        "    _ = plt.show()"
      ],
      "metadata": {
        "id": "9UskIk15Ln3H"
      },
      "execution_count": null,
      "outputs": []
    },
    {
      "cell_type": "code",
      "source": [
        "feature_name, features = preProcess( \"Juno.mp3\" )"
      ],
      "metadata": {
        "id": "OTyjXn-CLqIi"
      },
      "execution_count": null,
      "outputs": []
    },
    {
      "cell_type": "code",
      "source": [
        "def inspectAudioData(audioData):\n",
        "    print(\"Type of audioData:\", type(audioData))\n",
        "    print(\"Length of audioData:\", len(audioData) if isinstance(audioData, (list, tuple)) else \"N/A\")\n",
        "    if isinstance(audioData, (list, tuple)):\n",
        "        for i, item in enumerate(audioData):\n",
        "            print(f\"Index {i}: Type {type(item)}, Shape: {getattr(item, 'shape', 'N/A')}\")\n",
        "    else:\n",
        "        print(\"audioData is not a list or tuple.\")"
      ],
      "metadata": {
        "id": "FjdsWCupL2ld"
      },
      "execution_count": null,
      "outputs": []
    },
    {
      "cell_type": "code",
      "source": [
        "inspectAudioData(features)\n",
        "chromagram = getChromagram( features )\n",
        "plotHeatmap( chromagram )"
      ],
      "metadata": {
        "colab": {
          "base_uri": "https://localhost:8080/",
          "height": 488
        },
        "id": "R9302AmlL5k5",
        "outputId": "91a96654-4161-4f09-afb5-1b4b972fc17e"
      },
      "execution_count": null,
      "outputs": [
        {
          "output_type": "stream",
          "name": "stdout",
          "text": [
            "Type of audioData: <class 'numpy.ndarray'>\n",
            "Length of audioData: N/A\n",
            "audioData is not a list or tuple.\n",
            "audioData does not have sufficient columns. Shape: (979200,)\n"
          ]
        },
        {
          "output_type": "display_data",
          "data": {
            "text/plain": [
              "<Figure size 640x480 with 2 Axes>"
            ],
            "image/png": "[encoded data removed]"
          },
          "metadata": {}
        }
      ]
    },
    {
      "cell_type": "code",
      "source": [
        "noteFrequency = getNoteFrequency( chromagram )\n",
        "noteFrequencyPlot( noteFrequency )"
      ],
      "metadata": {
        "colab": {
          "base_uri": "https://localhost:8080/",
          "height": 430
        },
        "id": "_qet2lw9L8z_",
        "outputId": "64e5415f-df3c-47c2-c1db-315a520706e9"
      },
      "execution_count": null,
      "outputs": [
        {
          "output_type": "display_data",
          "data": {
            "text/plain": [
              "<Figure size 640x480 with 1 Axes>"
            ],
            "image/png": "[encoded data removed]"
          },
          "metadata": {}
        }
      ]
    }
  ]
}